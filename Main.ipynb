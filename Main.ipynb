{
 "cells": [
  {
   "cell_type": "markdown",
   "id": "87c3e3cc",
   "metadata": {},
   "source": [
    "# ACCESS BIOINFORMATICS DATABASES WITH BIO-PYTHON\n"
   ]
  },
  {
   "cell_type": "markdown",
   "id": "572ce676",
   "metadata": {},
   "source": [
    "## Import module"
   ]
  },
  {
   "cell_type": "code",
   "execution_count": 2,
   "id": "11bc37cd",
   "metadata": {},
   "outputs": [],
   "source": [
    "# module installation script\n",
    "#pip install biopython"
   ]
  },
  {
   "cell_type": "code",
   "execution_count": 3,
   "id": "88f9669e",
   "metadata": {},
   "outputs": [],
   "source": [
    "from Bio.Blast import NCBIWWW\n",
    "from Bio import SeqIO, SearchIO"
   ]
  },
  {
   "cell_type": "code",
   "execution_count": 9,
   "id": "c3823ac2",
   "metadata": {},
   "outputs": [],
   "source": [
    "#help(NCBIWWW)"
   ]
  },
  {
   "cell_type": "markdown",
   "id": "17af1c93",
   "metadata": {},
   "source": [
    "### 1. Necliotide blast search"
   ]
  },
  {
   "cell_type": "code",
   "execution_count": 6,
   "id": "38d610e4",
   "metadata": {},
   "outputs": [
    {
     "data": {
      "text/plain": [
       "774"
      ]
     },
     "execution_count": 6,
     "metadata": {},
     "output_type": "execute_result"
    }
   ],
   "source": [
    "# read a sequence from a file\n",
    "record = SeqIO.read(\"nuc_seq.fasta\", format=\"fasta\")\n",
    "len(record)"
   ]
  },
  {
   "cell_type": "code",
   "execution_count": 8,
   "id": "4930d0f7",
   "metadata": {},
   "outputs": [],
   "source": [
    "# blast the sequence against the nt database\n",
    "result_handle = NCBIWWW.qblast(\"blastn\", \"nt\", record.seq)"
   ]
  },
  {
   "cell_type": "code",
   "execution_count": null,
   "id": "908e13c8",
   "metadata": {},
   "outputs": [],
   "source": [
    "# save the result to a file\n",
    "blast_result = SearchIO.read(result_handle, \"blast-xml\")"
   ]
  },
  {
   "cell_type": "code",
   "execution_count": 10,
   "id": "6bf69cb2",
   "metadata": {},
   "outputs": [
    {
     "name": "stdout",
     "output_type": "stream",
     "text": [
      "Program: blastn (2.17.0+)\n",
      "  Query: No (774)\n",
      "         definition line\n",
      " Target: core_nt\n",
      "   Hits: ----  -----  ----------------------------------------------------------\n",
      "            #  # HSP  ID + description\n",
      "         ----  -----  ----------------------------------------------------------\n",
      "            0      1  gi|2549881539|emb|OY359284.1|  Severe acute respiratory...\n",
      "            1      1  gi|2505160398|emb|OX602250.1|  Severe acute respiratory...\n",
      "            2      1  gi|2633227592|emb|OY964483.1|  Severe acute respiratory...\n",
      "            3      1  gi|2521543283|emb|OX665185.1|  Severe acute respiratory...\n",
      "            4      1  gi|2506157127|emb|OX609575.1|  Severe acute respiratory...\n",
      "            5      1  gi|2555098633|emb|OY614841.1|  Severe acute respiratory...\n",
      "            6      1  gi|2633229606|emb|OY965041.1|  Severe acute respiratory...\n",
      "            7      1  gi|2633194945|emb|OY957481.1|  Severe acute respiratory...\n",
      "            8      1  gi|2565342413|emb|OY618720.1|  Severe acute respiratory...\n",
      "            9      1  gi|2633245706|emb|OY968416.1|  Severe acute respiratory...\n"
     ]
    }
   ],
   "source": [
    "print(blast_result[0:10])  # print the first 10 hits#"
   ]
  },
  {
   "cell_type": "code",
   "execution_count": null,
   "id": "e7b58734",
   "metadata": {},
   "outputs": [],
   "source": []
  }
 ],
 "metadata": {
  "kernelspec": {
   "display_name": "Python 3",
   "language": "python",
   "name": "python3"
  },
  "language_info": {
   "codemirror_mode": {
    "name": "ipython",
    "version": 3
   },
   "file_extension": ".py",
   "mimetype": "text/x-python",
   "name": "python",
   "nbconvert_exporter": "python",
   "pygments_lexer": "ipython3",
   "version": "3.13.4"
  }
 },
 "nbformat": 4,
 "nbformat_minor": 5
}
