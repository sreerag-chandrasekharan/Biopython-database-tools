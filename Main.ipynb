{
 "cells": [
  {
   "cell_type": "markdown",
   "id": "87c3e3cc",
   "metadata": {},
   "source": [
    "# ACCESS BIOINFORMATICS DATABASES WITH BIO-PYTHON\n"
   ]
  },
  {
   "cell_type": "markdown",
   "id": "572ce676",
   "metadata": {},
   "source": [
    "## Import module"
   ]
  },
  {
   "cell_type": "code",
   "execution_count": 1,
   "id": "11bc37cd",
   "metadata": {},
   "outputs": [],
   "source": [
    "# module installation script\n",
    "#pip install biopython"
   ]
  },
  {
   "cell_type": "code",
   "execution_count": 2,
   "id": "88f9669e",
   "metadata": {},
   "outputs": [],
   "source": [
    "from Bio.Blast import NCBIWWW\n",
    "from Bio import SeqIO, SearchIO"
   ]
  },
  {
   "cell_type": "code",
   "execution_count": 3,
   "id": "c3823ac2",
   "metadata": {},
   "outputs": [],
   "source": [
    "#help(NCBIWWW)"
   ]
  },
  {
   "cell_type": "markdown",
   "id": "17af1c93",
   "metadata": {},
   "source": [
    "### 1. Nucliotide blast search\n",
    "A nucleotide BLAST (Basic Local Alignment Search Tool) search compares a given DNA sequence (query) against a database of nucleotide sequences to identify regions of similarity."
   ]
  },
  {
   "cell_type": "code",
   "execution_count": null,
   "id": "38d610e4",
   "metadata": {},
   "outputs": [
    {
     "name": "stdout",
     "output_type": "stream",
     "text": [
      "MT598137.1\n",
      "ATCGCTCCAGGGCAAACTGGAAAGATTGCTGATTATAATTATAAATTACCAGATGATTTTACAGGCTGCGTTATAGCTTGGAATTCTAACAATCTTGATTCTAAGGTTGGTGGTAATTATAATTACCTGTATAGATTGTTTAGGAAGTCTAATCTCAAACCTTTTGAGAGAGATATTTCAACTGAAATCTATCAGGCCGGTAGCACACCTTGTAATGGTGTTGAAGGTTTTAATTGTTACTTTCCTTTACAATCATATGGTTTCCAACCCACTAATGGTGTTGGTTACCAACCATACAGAGTAGTAGTACTTTCTTTTGAACTTCTACATGCACCAGCAACTGTTTGTGGACCTAAAAAGTCTACTAATTTGGTTAAAAACAAATGTGTCAATTTCAACTTCAATGGTTTAACAGGCACAGGTGTTCTTACTGAGTCTAACAAAAAGTTTCTGCCTTTCCAACAATTTGGCAGAGACATTGCTGACACTACTGATGCTGTCCGTGATCCACAGACACTTGAGATTCTTGACATTACACCATGTTCTTTTGGTGGTGTCAGTGTTATAACACCAGGAACAAATACTTCTAACCAGGTTGCTGTTCTTTATCAGGATGTTAACTGCACAGAAGTCCCTGTTGCTATTCATGCAGATCAACTTACTCCTACTTGGCGTGTTTATTCTACAGGTTCTAATGTTTTTCAAACACGTGCAGGCTGTTTAATAGGGGCTGAACATGTCAACAACTCATATGAGTGTGACATACCCATTGGT\n"
     ]
    }
   ],
   "source": [
    "# read a sequence from a file\n",
    "record = SeqIO.read(\"nuc_seq.fasta\", format=\"fasta\")\n",
    "len(record)"
   ]
  },
  {
   "cell_type": "code",
   "execution_count": 5,
   "id": "4930d0f7",
   "metadata": {},
   "outputs": [],
   "source": [
    "# blast the sequence against the nt database\n",
    "result_handle = NCBIWWW.qblast(\"blastn\", \"nt\", record.seq)"
   ]
  },
  {
   "cell_type": "code",
   "execution_count": 6,
   "id": "908e13c8",
   "metadata": {},
   "outputs": [],
   "source": [
    "# save the result to a file\n",
    "blast_result = SearchIO.read(result_handle, \"blast-xml\")"
   ]
  },
  {
   "cell_type": "code",
   "execution_count": 7,
   "id": "6bf69cb2",
   "metadata": {},
   "outputs": [
    {
     "name": "stdout",
     "output_type": "stream",
     "text": [
      "Program: blastn (2.17.0+)\n",
      "  Query: No (774)\n",
      "         definition line\n",
      " Target: core_nt\n",
      "   Hits: ----  -----  ----------------------------------------------------------\n",
      "            #  # HSP  ID + description\n",
      "         ----  -----  ----------------------------------------------------------\n",
      "            0      1  gi|2549881539|emb|OY359284.1|  Severe acute respiratory...\n",
      "            1      1  gi|2505160398|emb|OX602250.1|  Severe acute respiratory...\n",
      "            2      1  gi|2633227592|emb|OY964483.1|  Severe acute respiratory...\n",
      "            3      1  gi|2521543283|emb|OX665185.1|  Severe acute respiratory...\n",
      "            4      1  gi|2506157127|emb|OX609575.1|  Severe acute respiratory...\n",
      "            5      1  gi|2555098633|emb|OY614841.1|  Severe acute respiratory...\n",
      "            6      1  gi|2633229606|emb|OY965041.1|  Severe acute respiratory...\n",
      "            7      1  gi|2633194945|emb|OY957481.1|  Severe acute respiratory...\n",
      "            8      1  gi|2565342413|emb|OY618720.1|  Severe acute respiratory...\n",
      "            9      1  gi|2633245706|emb|OY968416.1|  Severe acute respiratory...\n"
     ]
    }
   ],
   "source": [
    "print(blast_result[0:10])  # print the first 10 hits#"
   ]
  },
  {
   "cell_type": "code",
   "execution_count": 9,
   "id": "e7b58734",
   "metadata": {},
   "outputs": [
    {
     "name": "stdout",
     "output_type": "stream",
     "text": [
      "Sequence ID: gi|2549881539|emb|OY359284.1|\n",
      "Sequence Description: Severe acute respiratory syndrome coronavirus 2 genome assembly, complete genome: monopartite\n",
      "E-value: 0.0\n"
     ]
    }
   ],
   "source": [
    "seq = blast_result[0]\n",
    "print(f\"Sequence ID: {seq.id}\")\n",
    "print(f\"Sequence Description: {seq.description}\")\n",
    "\n",
    "detials = seq[0]\n",
    "print(f\"E-value: {detials.evalue}\")"
   ]
  },
  {
   "cell_type": "code",
   "execution_count": null,
   "id": "17b7531f",
   "metadata": {},
   "outputs": [
    {
     "name": "stdout",
     "output_type": "stream",
     "text": [
      "alignment:\n",
      "Alignment with 2 rows and 774 columns\n",
      "ATCGCTCCAGGGCAAACTGGAAAGATTGCTGATTATAATTATAA...GGT No\n",
      "ATCGCTCCAGGGCAAACTGGAAAGATTGCTGATTATAATTATAA...GGT gi|2549881539|emb|OY359284.1|\n"
     ]
    }
   ],
   "source": [
    "print(f\"alignment:\\n{detials.aln}\") #give the alignment of the sequence with the hit"
   ]
  },
  {
   "cell_type": "markdown",
   "id": "594a45e9",
   "metadata": {},
   "source": [
    "## 1.2. Protein BLAST\n"
   ]
  },
  {
   "cell_type": "code",
   "execution_count": null,
   "id": "972a67f2",
   "metadata": {},
   "outputs": [
    {
     "data": {
      "text/plain": [
       "258"
      ]
     },
     "execution_count": 11,
     "metadata": {},
     "output_type": "execute_result"
    }
   ],
   "source": [
    "prot_record = SeqIO.read(\"prot_seq.fasta\", format=\"fasta\")\n",
    "len(prot_record)"
   ]
  },
  {
   "cell_type": "code",
   "execution_count": 12,
   "id": "bdd2e449",
   "metadata": {},
   "outputs": [],
   "source": [
    "result_handle = NCBIWWW.qblast(\"blastp\", \"pdb\", prot_record.seq)\n",
    "blast_result = SearchIO.read(result_handle, \"blast-xml\")"
   ]
  },
  {
   "cell_type": "code",
   "execution_count": null,
   "id": "0e381665",
   "metadata": {},
   "outputs": [],
   "source": [
    "print(blast_result[0:2])"
   ]
  },
  {
   "cell_type": "code",
   "execution_count": null,
   "id": "1e548261",
   "metadata": {},
   "outputs": [],
   "source": [
    "Seq = blast_result [0]\n",
    "print(f\"Sequence ID: {Seq.id}\")\n",
    "print(f\"Sequence Description: {Seq.description}\")\n",
    "\n",
    "details = Seq[0]\n",
    "print(f\"E-value: {details.evalue}\")"
   ]
  },
  {
   "cell_type": "code",
   "execution_count": null,
   "id": "7a096f9d",
   "metadata": {},
   "outputs": [],
   "source": [
    "print(f\"alignment:\\n {details.aln}\")"
   ]
  }
 ],
 "metadata": {
  "kernelspec": {
   "display_name": "Python 3",
   "language": "python",
   "name": "python3"
  },
  "language_info": {
   "codemirror_mode": {
    "name": "ipython",
    "version": 3
   },
   "file_extension": ".py",
   "mimetype": "text/x-python",
   "name": "python",
   "nbconvert_exporter": "python",
   "pygments_lexer": "ipython3",
   "version": "3.13.4"
  }
 },
 "nbformat": 4,
 "nbformat_minor": 5
}
